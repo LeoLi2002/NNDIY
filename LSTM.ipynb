{
 "cells": [
  {
   "cell_type": "markdown",
   "id": "d0ec1043",
   "metadata": {},
   "source": [
    "# 需要实现的部分  \n",
    "1、迭代器的构造  \n",
    "2、lstm类的构造  \n",
    "3、训练和测试函数的编写  "
   ]
  },
  {
   "cell_type": "code",
   "execution_count": 292,
   "id": "9f43884d",
   "metadata": {},
   "outputs": [],
   "source": [
    "import os\n",
    "os.environ[\"KMP_DUPLICATE_LIB_OK\"] = \"TRUE\"\n",
    "import pandas as pd\n",
    "import torch\n",
    "import akshare as ak\n",
    "import numpy as np\n",
    "import matplotlib.pyplot as plt\n",
    "import random"
   ]
  },
  {
   "cell_type": "markdown",
   "id": "b8cd261a",
   "metadata": {},
   "source": [
    "导入数据"
   ]
  },
  {
   "cell_type": "code",
   "execution_count": 312,
   "id": "2c03715e",
   "metadata": {},
   "outputs": [
    {
     "data": {
      "text/plain": [
       "[<matplotlib.lines.Line2D at 0x1c971ba0040>]"
      ]
     },
     "execution_count": 312,
     "metadata": {},
     "output_type": "execute_result"
    },
    {
     "data": {
      "image/png": "[encoded data removed]",
      "text/plain": [
       "<Figure size 432x288 with 1 Axes>"
      ]
     },
     "metadata": {
      "needs_background": "light"
     },
     "output_type": "display_data"
    }
   ],
   "source": [
    "data = ak.stock_zh_a_daily(symbol=\"sz000002\", start_date=\"20101103\", end_date=\"20201116\", adjust=\"hfq\").iloc[:, 1:]\n",
    "data = data / 1000\n",
    "plt.plot(data.open)\n"
   ]
  },
  {
   "cell_type": "code",
   "execution_count": null,
   "id": "58563f1b",
   "metadata": {},
   "outputs": [],
   "source": []
  },
  {
   "cell_type": "markdown",
   "id": "fca60f92",
   "metadata": {},
   "source": [
    "迭代器的构造"
   ]
  },
  {
   "cell_type": "code",
   "execution_count": 313,
   "id": "f6b99b22",
   "metadata": {},
   "outputs": [],
   "source": [
    "def data_loader(data, batch_size, seq_len):\n",
    "    # 通过初始裁剪以保证每次迭代的序列具有一定差异\n",
    "    data = data[random.randint(0, seq_len):]\n",
    "    # 计算序列数量\n",
    "    num_seq = (len(data)-1) // seq_len\n",
    "    # 计算batch数量\n",
    "    num_batch  =num_seq // batch_size\n",
    "    \n",
    "    # 计算初始点位置\n",
    "    init_indexs = list(range(0, num_seq*seq_len, seq_len))\n",
    "    random.shuffle(init_indexs)\n",
    "    \n",
    "    def _data(index):\n",
    "        return data[index:index+seq_len]\n",
    "    \n",
    "    for i in range(0, batch_size*num_batch, batch_size):\n",
    "        indexs = init_indexs[i:i+batch_size]\n",
    "        X = [_data(j) for j in indexs]\n",
    "        Y = [_data(j+1) for j in indexs]\n",
    "        yield torch.tensor(X).reshape((batch_size, seq_len, 1)), torch.tensor(Y).reshape((batch_size, seq_len, 1))"
   ]
  },
  {
   "cell_type": "code",
   "execution_count": 314,
   "id": "6e42dc1a",
   "metadata": {},
   "outputs": [],
   "source": [
    "class DataLoader:\n",
    "    def __init__(self, data, batch_size, seq_len, iter_fn):\n",
    "        self.batch_size = batch_size\n",
    "        self.seq_len = seq_len\n",
    "        self.data = data\n",
    "        self.iter_fn = iter_fn\n",
    "        \n",
    "    def __iter__(self):\n",
    "        # 注意data应该是ndarray或者list类型\n",
    "        return self.iter_fn(self.data, self.batch_size, self.seq_len)"
   ]
  },
  {
   "cell_type": "markdown",
   "id": "3c0eeb66",
   "metadata": {},
   "source": [
    "LSTM类实现"
   ]
  },
  {
   "cell_type": "code",
   "execution_count": 393,
   "id": "622cabc5",
   "metadata": {},
   "outputs": [],
   "source": [
    "def get_param(input_dim, output_dim, hidden_size):\n",
    "    # 有几个门\n",
    "    #遗忘门、输入门、输出门、候选记忆\n",
    "    def normal(shape):\n",
    "        return torch.randn(size=shape)\n",
    "    \n",
    "    # 返回\n",
    "    def three():\n",
    "        return (normal((input_dim, hidden_size)),\n",
    "               normal((hidden_size, hidden_size)),\n",
    "               torch.zeros(hidden_size))\n",
    "    \n",
    "    w_ix, w_ih, b_i = three()\n",
    "    w_fx, w_fh, b_f = three()\n",
    "    w_cx, w_ch, b_c = three()\n",
    "    w_ox, w_oh, b_o = three()\n",
    "    \n",
    "    # 输出层参数\n",
    "    w_hq = normal((hidden_size, output_dim))\n",
    "    b_q = torch.zeros(output_dim)\n",
    "    \n",
    "    params = [w_ix, w_ih, b_i, w_fx, w_fh, b_f, \n",
    "              w_cx, w_ch, b_c,  w_ox, w_oh, b_o, w_hq, b_q]\n",
    "    \n",
    "    for param in params:\n",
    "        param.requires_grad_(True)\n",
    "        \n",
    "    return params"
   ]
  },
  {
   "cell_type": "code",
   "execution_count": 394,
   "id": "1cbacb27",
   "metadata": {},
   "outputs": [],
   "source": [
    "def lstm(X, state, params):\n",
    "    # 获取各个参数\n",
    "    w_ix, w_ih, b_i, w_fx, w_fh, b_f, w_cx, w_ch, b_c,  w_ox, w_oh, b_o, w_hq, b_q = params\n",
    "    \n",
    "    # 获取隐状态和记忆单元\n",
    "    H, C = state\n",
    "    \n",
    "    # 将输入转化成batch_first=Fasle的形式\n",
    "    X = X.permute(1, 0, 2)\n",
    "    outputs = []\n",
    "    for x in X:\n",
    "        F = torch.sigmoid(torch.matmul(x, w_fx) + torch.matmul(H, w_fh) + b_f)\n",
    "        I = torch.sigmoid(torch.matmul(x, w_ix) + torch.matmul(H, w_ih) + b_i)\n",
    "        C_tilda = torch.tanh(torch.matmul(x, w_cx) + torch.matmul(H, w_ch) + b_c)\n",
    "        C = C * F + C_tilda * I\n",
    "        O = torch.sigmoid(torch.matmul(x, w_ox) + torch.matmul(H, w_oh) + b_o)\n",
    "        H = O * torch.tanh(C)\n",
    "        outputs.append(torch.matmul(H, w_hq) + b_q)\n",
    "    return torch.cat(outputs, dim=0).reshape((-1, X.shape[0], w_hq.shape[1])), (H, C)"
   ]
  },
  {
   "cell_type": "code",
   "execution_count": 395,
   "id": "835654f5",
   "metadata": {},
   "outputs": [],
   "source": [
    "def init_state(batch_size, hidden_dim):\n",
    "    return (torch.zeros((batch_size, hidden_dim)), \n",
    "            torch.zeros((batch_size, hidden_dim)))"
   ]
  },
  {
   "cell_type": "code",
   "execution_count": 396,
   "id": "5aee96ea",
   "metadata": {},
   "outputs": [],
   "source": [
    "class MyLSTM:\n",
    "    def __init__(self, input_dim, output_dim, hidden_dim, \n",
    "                 get_param, forward_fn, init_state):\n",
    "        self.input_dim = input_dim\n",
    "        self.output_dim = output_dim\n",
    "        self.hidden_dim = hidden_dim\n",
    "        self.params = get_param(input_dim, output_dim, hidden_dim)\n",
    "        self.forward_fn = forward_fn\n",
    "        self.init_state = init_state\n",
    "        \n",
    "    def __call__(self, X, state):\n",
    "        return self.forward_fn(X, state, self.params)\n",
    "    \n",
    "    def begin_state(self, batch_size):\n",
    "        return self.init_state(batch_size, self.hidden_dim)\n"
   ]
  },
  {
   "cell_type": "markdown",
   "id": "7106d2eb",
   "metadata": {},
   "source": [
    "测试一下输入输出"
   ]
  },
  {
   "cell_type": "code",
   "execution_count": 397,
   "id": "d06fe44e",
   "metadata": {},
   "outputs": [
    {
     "name": "stdout",
     "output_type": "stream",
     "text": [
      "torch.Size([16, 20, 1])\n",
      "torch.Size([16, 20, 1])\n",
      "torch.Size([16, 20, 1])\n",
      "torch.Size([16, 100])\n",
      "torch.Size([16, 100])\n"
     ]
    }
   ],
   "source": [
    "dl = DataLoader(data.open.values, 16, 20, data_loader)\n",
    "net = MyLSTM(1, 1, 100, get_param, lstm, init_state)\n",
    "for X, Y in dl:\n",
    "    state = net.begin_state(16)\n",
    "    X, Y = X.float(), Y.float()\n",
    "    print(X.shape)\n",
    "    print(Y.shape)\n",
    "    O, state = net(X, state)\n",
    "    print(O.shape)\n",
    "    print(state[0].shape)\n",
    "    print(state[1].shape)\n",
    "    break"
   ]
  },
  {
   "cell_type": "markdown",
   "id": "ae54c73e",
   "metadata": {},
   "source": [
    "编写训练和预测函数"
   ]
  },
  {
   "cell_type": "code",
   "execution_count": 398,
   "id": "b968f0fa",
   "metadata": {},
   "outputs": [],
   "source": [
    "def train_epoch(dataloader, net, loss, updater, theta):\n",
    "    # 需要的参数：数据迭代器、损失函数、参数更新函数，学习率，网络,batchsize\n",
    "    total_loss = 0\n",
    "    for X, Y in dataloader:\n",
    "        X, Y = X.float(), Y.float()\n",
    "        # 设置隐含状态和记忆单元\n",
    "        state = net.begin_state(dataloader.batch_size)\n",
    "        y_hat, state = net(X, state)\n",
    "        y_hat = y_hat.reshape(-1).float()\n",
    "        Y = Y.reshape(-1).float()\n",
    "        l = loss(y_hat, Y).mean()\n",
    "        total_loss += l\n",
    "        l.backward()\n",
    "        grad_clipping(net, theta)\n",
    "        updater(0)\n",
    "    return total_loss"
   ]
  },
  {
   "cell_type": "code",
   "execution_count": 399,
   "id": "72c958e2",
   "metadata": {},
   "outputs": [],
   "source": [
    "def grad_clipping(net, theta):\n",
    "    params = net.params\n",
    "    norm = torch.sqrt(sum(torch.sum(p.grad**2) for p in params))\n",
    "    if norm > theta:\n",
    "        for param in params:\n",
    "            param.grad[:] = param.grad / norm"
   ]
  },
  {
   "cell_type": "code",
   "execution_count": 400,
   "id": "704bc81b",
   "metadata": {},
   "outputs": [],
   "source": [
    "def backward_fn(params, lr):\n",
    "    with torch.no_grad():\n",
    "        for param in params:\n",
    "            param[:] = param - lr * param.grad\n",
    "            param.grad.zero_()"
   ]
  },
  {
   "cell_type": "code",
   "execution_count": 401,
   "id": "e6dc5b49",
   "metadata": {},
   "outputs": [],
   "source": [
    "def train(dataloader, net, lr, epoches, backward_fn, theta):\n",
    "    loss = torch.nn.MSELoss()\n",
    "    updater = lambda x: backward_fn(net.params, lr)\n",
    "    for epoch in range(epoches):\n",
    "        total_loss = train_epoch(dataloader, net, loss, updater, theta)\n",
    "        if (epoch+1) % 10 == 0:\n",
    "            print(f\"第{epoch+1}次训练， LOSS: \", total_loss)"
   ]
  },
  {
   "cell_type": "code",
   "execution_count": 409,
   "id": "ec430841",
   "metadata": {},
   "outputs": [
    {
     "name": "stdout",
     "output_type": "stream",
     "text": [
      "第10次训练， LOSS:  tensor(59.6768, grad_fn=<AddBackward0>)\n",
      "第20次训练， LOSS:  tensor(24.5480, grad_fn=<AddBackward0>)\n",
      "第30次训练， LOSS:  tensor(12.6421, grad_fn=<AddBackward0>)\n",
      "第40次训练， LOSS:  tensor(11.9277, grad_fn=<AddBackward0>)\n",
      "第50次训练， LOSS:  tensor(11.0753, grad_fn=<AddBackward0>)\n",
      "第60次训练， LOSS:  tensor(10.9940, grad_fn=<AddBackward0>)\n",
      "第70次训练， LOSS:  tensor(11.2126, grad_fn=<AddBackward0>)\n",
      "第80次训练， LOSS:  tensor(11.3840, grad_fn=<AddBackward0>)\n",
      "第90次训练， LOSS:  tensor(11.3547, grad_fn=<AddBackward0>)\n",
      "第100次训练， LOSS:  tensor(11.3840, grad_fn=<AddBackward0>)\n",
      "第110次训练， LOSS:  tensor(11.3337, grad_fn=<AddBackward0>)\n",
      "第120次训练， LOSS:  tensor(11.2365, grad_fn=<AddBackward0>)\n",
      "第130次训练， LOSS:  tensor(11.2598, grad_fn=<AddBackward0>)\n",
      "第140次训练， LOSS:  tensor(11.2105, grad_fn=<AddBackward0>)\n",
      "第150次训练， LOSS:  tensor(11.4030, grad_fn=<AddBackward0>)\n",
      "第160次训练， LOSS:  tensor(11.3489, grad_fn=<AddBackward0>)\n",
      "第170次训练， LOSS:  tensor(11.1254, grad_fn=<AddBackward0>)\n",
      "第180次训练， LOSS:  tensor(11.1976, grad_fn=<AddBackward0>)\n",
      "第190次训练， LOSS:  tensor(11.1389, grad_fn=<AddBackward0>)\n",
      "第200次训练， LOSS:  tensor(11.1613, grad_fn=<AddBackward0>)\n",
      "第210次训练， LOSS:  tensor(11.0129, grad_fn=<AddBackward0>)\n",
      "第220次训练， LOSS:  tensor(11.1063, grad_fn=<AddBackward0>)\n",
      "第230次训练， LOSS:  tensor(11.2490, grad_fn=<AddBackward0>)\n",
      "第240次训练， LOSS:  tensor(11.0852, grad_fn=<AddBackward0>)\n",
      "第250次训练， LOSS:  tensor(10.9780, grad_fn=<AddBackward0>)\n",
      "第260次训练， LOSS:  tensor(11.2325, grad_fn=<AddBackward0>)\n",
      "第270次训练， LOSS:  tensor(11.0237, grad_fn=<AddBackward0>)\n",
      "第280次训练， LOSS:  tensor(11.1123, grad_fn=<AddBackward0>)\n",
      "第290次训练， LOSS:  tensor(11.2099, grad_fn=<AddBackward0>)\n",
      "第300次训练， LOSS:  tensor(11.0890, grad_fn=<AddBackward0>)\n",
      "第310次训练， LOSS:  tensor(11.0228, grad_fn=<AddBackward0>)\n",
      "第320次训练， LOSS:  tensor(11.2592, grad_fn=<AddBackward0>)\n",
      "第330次训练， LOSS:  tensor(11.0192, grad_fn=<AddBackward0>)\n",
      "第340次训练， LOSS:  tensor(11.2130, grad_fn=<AddBackward0>)\n",
      "第350次训练， LOSS:  tensor(11.1259, grad_fn=<AddBackward0>)\n",
      "第360次训练， LOSS:  tensor(11.3502, grad_fn=<AddBackward0>)\n",
      "第370次训练， LOSS:  tensor(11.2409, grad_fn=<AddBackward0>)\n",
      "第380次训练， LOSS:  tensor(11.0492, grad_fn=<AddBackward0>)\n",
      "第390次训练， LOSS:  tensor(11.2117, grad_fn=<AddBackward0>)\n",
      "第400次训练， LOSS:  tensor(11.1287, grad_fn=<AddBackward0>)\n",
      "第410次训练， LOSS:  tensor(11.2420, grad_fn=<AddBackward0>)\n",
      "第420次训练， LOSS:  tensor(11.2176, grad_fn=<AddBackward0>)\n",
      "第430次训练， LOSS:  tensor(11.2483, grad_fn=<AddBackward0>)\n",
      "第440次训练， LOSS:  tensor(11.4075, grad_fn=<AddBackward0>)\n",
      "第450次训练， LOSS:  tensor(11.0661, grad_fn=<AddBackward0>)\n",
      "第460次训练， LOSS:  tensor(11.1653, grad_fn=<AddBackward0>)\n",
      "第470次训练， LOSS:  tensor(11.2650, grad_fn=<AddBackward0>)\n",
      "第480次训练， LOSS:  tensor(11.1118, grad_fn=<AddBackward0>)\n",
      "第490次训练， LOSS:  tensor(11.3923, grad_fn=<AddBackward0>)\n",
      "第500次训练， LOSS:  tensor(11.1637, grad_fn=<AddBackward0>)\n"
     ]
    }
   ],
   "source": [
    "net = MyLSTM(1, 1, 10, get_param, lstm, init_state)\n",
    "dl = DataLoader(data.open.values, 16, 20, data_loader)\n",
    "train(dl, net, 0.01, 500, backward_fn, 1)"
   ]
  },
  {
   "cell_type": "markdown",
   "id": "bde697f5",
   "metadata": {},
   "source": [
    "检测"
   ]
  },
  {
   "cell_type": "code",
   "execution_count": 410,
   "id": "a2f9d8e7",
   "metadata": {},
   "outputs": [],
   "source": [
    "def test_iter(seq, batch_size, seq_len):\n",
    "    num_seq = (len(seq)-seq_len-1) # 总的子序列数量\n",
    "    num_batch = num_seq // batch_size\n",
    "    init_indexs = list(range(0, num_batch*batch_size*seq_len-seq_len))\n",
    "    def _data(index):\n",
    "        return seq[index:index+seq_len]\n",
    "    for i in range(0, num_batch*batch_size, batch_size):\n",
    "        indices = init_indexs[i:i+batch_size]\n",
    "        X = [_data(j) for j  in indices]\n",
    "        Y = [_data(j+1) for j in indices]\n",
    "        yield torch.tensor(X).reshape((batch_size, seq_len, -1)), torch.tensor(Y).reshape((batch_size, seq_len, -1))"
   ]
  },
  {
   "cell_type": "code",
   "execution_count": 411,
   "id": "5fd3c7d4",
   "metadata": {},
   "outputs": [],
   "source": [
    "def test(net, dataloader):\n",
    "    preds = []\n",
    "    correct = []\n",
    "    for X, Y in dataloader:\n",
    "        X, Y = X.float(), Y.float()\n",
    "        state = net.begin_state(1)\n",
    "        y_hat, state = net(X, state)\n",
    "        preds.append(y_hat[0][-1][0].detach())\n",
    "        correct.append(Y[0][-1][0].detach())\n",
    "    return preds, correct"
   ]
  },
  {
   "cell_type": "code",
   "execution_count": 412,
   "id": "893ef300",
   "metadata": {},
   "outputs": [],
   "source": [
    "test_dl = DataLoader(data.open.values, 1, 20, test_iter)\n",
    "preds, correct = test(net, test_dl)"
   ]
  },
  {
   "cell_type": "code",
   "execution_count": 413,
   "id": "cc0219c6",
   "metadata": {},
   "outputs": [
    {
     "data": {
      "text/plain": [
       "<matplotlib.legend.Legend at 0x1c971a4b070>"
      ]
     },
     "execution_count": 413,
     "metadata": {},
     "output_type": "execute_result"
    },
    {
     "data": {
      "image/png": "[encoded data removed]",
      "text/plain": [
       "<Figure size 432x288 with 1 Axes>"
      ]
     },
     "metadata": {
      "needs_background": "light"
     },
     "output_type": "display_data"
    }
   ],
   "source": [
    "plt.plot(correct)\n",
    "plt.plot(preds)\n",
    "plt.legend([\"correct\", \"pred\"])"
   ]
  },
  {
   "cell_type": "code",
   "execution_count": 330,
   "id": "9b86ed97",
   "metadata": {},
   "outputs": [],
   "source": [
    "# preds_cum = (pd.DataFrame(preds) + 1).cumprod()\n",
    "# correct_cum = (pd.DataFrame(correct) + 1).cumprod()\n",
    "# plt.plot(correct_cum)\n",
    "# plt.plot(preds_cum)\n",
    "# plt.legend([\"correct\", \"pred\"])"
   ]
  },
  {
   "cell_type": "code",
   "execution_count": null,
   "id": "4e6a94a9",
   "metadata": {},
   "outputs": [],
   "source": []
  },
  {
   "cell_type": "markdown",
   "id": "63ad2751",
   "metadata": {},
   "source": [
    "使用Pytorch封装好的工具搭建LSTM"
   ]
  },
  {
   "cell_type": "code",
   "execution_count": 96,
   "id": "954ad3bd",
   "metadata": {},
   "outputs": [],
   "source": [
    "class MyLSTM2(torch.nn.Module):\n",
    "    def __init__(self, input_dim, output_dim, hidden_dim):\n",
    "        super().__init__()\n",
    "        self.lstm = torch.nn.LSTM(input_dim, hidden_dim, 1, batch_first=True)\n",
    "        self.linear = torch.nn.Linear(hidden_dim, output_dim)\n",
    "    \n",
    "    def forward(self, X, state):\n",
    "        H, C = state\n",
    "        X = X.permute(1, 0, 2)\n",
    "        Y_hat, State = self.lstm(X, (H, C))\n",
    "        Y_hat = Y_hat.permute(1, 0, 2)\n",
    "        outputs = []\n",
    "        for y_hat in Y_hat:\n",
    "            outputs.append(self.linear(y_hat))\n",
    "        outputs = torch.cat(outputs, dim=1)\n",
    "        return outputs, state"
   ]
  },
  {
   "cell_type": "code",
   "execution_count": 105,
   "id": "047b347a",
   "metadata": {},
   "outputs": [],
   "source": [
    "net = MyLSTM2(1, 1, 60)\n",
    "trainer = torch.optim.Adam(net.parameters(), lr=0.001)\n",
    "loss = torch.nn.MSELoss()\n",
    "epoches = 500"
   ]
  },
  {
   "cell_type": "code",
   "execution_count": 106,
   "id": "fc351427",
   "metadata": {},
   "outputs": [],
   "source": [
    "def train(net, trainer, epoches):\n",
    "    for epoch in range(epoches):\n",
    "        total_loss = 0\n",
    "        for X, Y in dl:\n",
    "            trainer.zero_grad()\n",
    "            X, Y = X.float(), Y.reshape(-1).float()\n",
    "            h0 = torch.randn((1, 5, 60))\n",
    "            c0 = torch.randn((1, 5, 60))\n",
    "            y_hat, state = net(X, (h0, c0))\n",
    "            y_hat = y_hat.reshape(-1).float()\n",
    "            l = loss(Y, y_hat)\n",
    "            l.backward()\n",
    "            total_loss += l\n",
    "            trainer.step()\n",
    "        if (epoch + 1) % 50 == 0:\n",
    "            print(f\"第{epoch+1}次训练，损失为：\", total_loss)        "
   ]
  },
  {
   "cell_type": "code",
   "execution_count": 107,
   "id": "22f47df1",
   "metadata": {},
   "outputs": [
    {
     "name": "stdout",
     "output_type": "stream",
     "text": [
      "第50次训练，损失为： tensor(56525124., grad_fn=<AddBackward0>)\n",
      "第100次训练，损失为： tensor(56413660., grad_fn=<AddBackward0>)\n",
      "第150次训练，损失为： tensor(56370612., grad_fn=<AddBackward0>)\n",
      "第200次训练，损失为： tensor(55192044., grad_fn=<AddBackward0>)\n",
      "第250次训练，损失为： tensor(54915120., grad_fn=<AddBackward0>)\n"
     ]
    },
    {
     "ename": "KeyboardInterrupt",
     "evalue": "",
     "output_type": "error",
     "traceback": [
      "\u001b[1;31m---------------------------------------------------------------------------\u001b[0m",
      "\u001b[1;31mKeyboardInterrupt\u001b[0m                         Traceback (most recent call last)",
      "Input \u001b[1;32mIn [107]\u001b[0m, in \u001b[0;36m<cell line: 1>\u001b[1;34m()\u001b[0m\n\u001b[1;32m----> 1\u001b[0m \u001b[43mtrain\u001b[49m\u001b[43m(\u001b[49m\u001b[43mnet\u001b[49m\u001b[43m,\u001b[49m\u001b[43m \u001b[49m\u001b[43mtrainer\u001b[49m\u001b[43m,\u001b[49m\u001b[43m \u001b[49m\u001b[43mepoches\u001b[49m\u001b[43m)\u001b[49m\n",
      "Input \u001b[1;32mIn [106]\u001b[0m, in \u001b[0;36mtrain\u001b[1;34m(net, trainer, epoches)\u001b[0m\n\u001b[0;32m     10\u001b[0m y_hat \u001b[38;5;241m=\u001b[39m y_hat\u001b[38;5;241m.\u001b[39mreshape(\u001b[38;5;241m-\u001b[39m\u001b[38;5;241m1\u001b[39m)\u001b[38;5;241m.\u001b[39mfloat()\n\u001b[0;32m     11\u001b[0m l \u001b[38;5;241m=\u001b[39m loss(Y, y_hat)\n\u001b[1;32m---> 12\u001b[0m \u001b[43ml\u001b[49m\u001b[38;5;241;43m.\u001b[39;49m\u001b[43mbackward\u001b[49m\u001b[43m(\u001b[49m\u001b[43m)\u001b[49m\n\u001b[0;32m     13\u001b[0m total_loss \u001b[38;5;241m+\u001b[39m\u001b[38;5;241m=\u001b[39m l\n\u001b[0;32m     14\u001b[0m trainer\u001b[38;5;241m.\u001b[39mstep()\n",
      "File \u001b[1;32m~\\AppData\\Roaming\\Python\\Python39\\site-packages\\torch\\_tensor.py:396\u001b[0m, in \u001b[0;36mTensor.backward\u001b[1;34m(self, gradient, retain_graph, create_graph, inputs)\u001b[0m\n\u001b[0;32m    387\u001b[0m \u001b[38;5;28;01mif\u001b[39;00m has_torch_function_unary(\u001b[38;5;28mself\u001b[39m):\n\u001b[0;32m    388\u001b[0m     \u001b[38;5;28;01mreturn\u001b[39;00m handle_torch_function(\n\u001b[0;32m    389\u001b[0m         Tensor\u001b[38;5;241m.\u001b[39mbackward,\n\u001b[0;32m    390\u001b[0m         (\u001b[38;5;28mself\u001b[39m,),\n\u001b[1;32m   (...)\u001b[0m\n\u001b[0;32m    394\u001b[0m         create_graph\u001b[38;5;241m=\u001b[39mcreate_graph,\n\u001b[0;32m    395\u001b[0m         inputs\u001b[38;5;241m=\u001b[39minputs)\n\u001b[1;32m--> 396\u001b[0m \u001b[43mtorch\u001b[49m\u001b[38;5;241;43m.\u001b[39;49m\u001b[43mautograd\u001b[49m\u001b[38;5;241;43m.\u001b[39;49m\u001b[43mbackward\u001b[49m\u001b[43m(\u001b[49m\u001b[38;5;28;43mself\u001b[39;49m\u001b[43m,\u001b[49m\u001b[43m \u001b[49m\u001b[43mgradient\u001b[49m\u001b[43m,\u001b[49m\u001b[43m \u001b[49m\u001b[43mretain_graph\u001b[49m\u001b[43m,\u001b[49m\u001b[43m \u001b[49m\u001b[43mcreate_graph\u001b[49m\u001b[43m,\u001b[49m\u001b[43m \u001b[49m\u001b[43minputs\u001b[49m\u001b[38;5;241;43m=\u001b[39;49m\u001b[43minputs\u001b[49m\u001b[43m)\u001b[49m\n",
      "File \u001b[1;32m~\\AppData\\Roaming\\Python\\Python39\\site-packages\\torch\\autograd\\__init__.py:173\u001b[0m, in \u001b[0;36mbackward\u001b[1;34m(tensors, grad_tensors, retain_graph, create_graph, grad_variables, inputs)\u001b[0m\n\u001b[0;32m    168\u001b[0m     retain_graph \u001b[38;5;241m=\u001b[39m create_graph\n\u001b[0;32m    170\u001b[0m \u001b[38;5;66;03m# The reason we repeat same the comment below is that\u001b[39;00m\n\u001b[0;32m    171\u001b[0m \u001b[38;5;66;03m# some Python versions print out the first line of a multi-line function\u001b[39;00m\n\u001b[0;32m    172\u001b[0m \u001b[38;5;66;03m# calls in the traceback and some print out the last line\u001b[39;00m\n\u001b[1;32m--> 173\u001b[0m \u001b[43mVariable\u001b[49m\u001b[38;5;241;43m.\u001b[39;49m\u001b[43m_execution_engine\u001b[49m\u001b[38;5;241;43m.\u001b[39;49m\u001b[43mrun_backward\u001b[49m\u001b[43m(\u001b[49m\u001b[43m  \u001b[49m\u001b[38;5;66;43;03m# Calls into the C++ engine to run the backward pass\u001b[39;49;00m\n\u001b[0;32m    174\u001b[0m \u001b[43m    \u001b[49m\u001b[43mtensors\u001b[49m\u001b[43m,\u001b[49m\u001b[43m \u001b[49m\u001b[43mgrad_tensors_\u001b[49m\u001b[43m,\u001b[49m\u001b[43m \u001b[49m\u001b[43mretain_graph\u001b[49m\u001b[43m,\u001b[49m\u001b[43m \u001b[49m\u001b[43mcreate_graph\u001b[49m\u001b[43m,\u001b[49m\u001b[43m \u001b[49m\u001b[43minputs\u001b[49m\u001b[43m,\u001b[49m\n\u001b[0;32m    175\u001b[0m \u001b[43m    \u001b[49m\u001b[43mallow_unreachable\u001b[49m\u001b[38;5;241;43m=\u001b[39;49m\u001b[38;5;28;43;01mTrue\u001b[39;49;00m\u001b[43m,\u001b[49m\u001b[43m \u001b[49m\u001b[43maccumulate_grad\u001b[49m\u001b[38;5;241;43m=\u001b[39;49m\u001b[38;5;28;43;01mTrue\u001b[39;49;00m\u001b[43m)\u001b[49m\n",
      "\u001b[1;31mKeyboardInterrupt\u001b[0m: "
     ]
    }
   ],
   "source": [
    "train(net, trainer, epoches)"
   ]
  },
  {
   "cell_type": "code",
   "execution_count": null,
   "id": "facffed7",
   "metadata": {},
   "outputs": [],
   "source": []
  }
 ],
 "metadata": {
  "kernelspec": {
   "display_name": "Python 3 (ipykernel)",
   "language": "python",
   "name": "python3"
  },
  "language_info": {
   "codemirror_mode": {
    "name": "ipython",
    "version": 3
   },
   "file_extension": ".py",
   "mimetype": "text/x-python",
   "name": "python",
   "nbconvert_exporter": "python",
   "pygments_lexer": "ipython3",
   "version": "3.9.12"
  }
 },
 "nbformat": 4,
 "nbformat_minor": 5
}
