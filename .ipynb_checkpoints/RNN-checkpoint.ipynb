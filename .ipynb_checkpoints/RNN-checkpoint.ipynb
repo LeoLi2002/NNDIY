{
 "cells": [
  {
   "cell_type": "markdown",
   "id": "1fe4ab90",
   "metadata": {},
   "source": [
    "# RNN手动实现"
   ]
  },
  {
   "cell_type": "markdown",
   "id": "9b6bd432",
   "metadata": {},
   "source": [
    "实现RNN预测股价，主要分为以下几个部分：  \n",
    "1、数据集载入   \n",
    "2、RNN类实现  \n",
    "3、训练函数实现  "
   ]
  },
  {
   "cell_type": "code",
   "execution_count": 1,
   "id": "2d57caf6",
   "metadata": {},
   "outputs": [],
   "source": [
    "import os\n",
    "os.environ[\"KMP_DUPLICATE_LIB_OK\"] = \"TRUE\"\n",
    "import pandas as pd\n",
    "import torch\n",
    "import akshare as ak\n",
    "import numpy as np\n",
    "import matplotlib.pyplot as plt\n",
    "import random"
   ]
  },
  {
   "cell_type": "markdown",
   "id": "aec45989",
   "metadata": {},
   "source": [
    "利用akshare数据库导入股票数据"
   ]
  },
  {
   "cell_type": "code",
   "execution_count": 2,
   "id": "332159fe",
   "metadata": {},
   "outputs": [
    {
     "data": {
      "text/plain": [
       "[<matplotlib.lines.Line2D at 0x2a00eb7b7f0>]"
      ]
     },
     "execution_count": 2,
     "metadata": {},
     "output_type": "execute_result"
    },
    {
     "data": {
      "image/png": "[encoded data removed]",
      "text/plain": [
       "<Figure size 432x288 with 1 Axes>"
      ]
     },
     "metadata": {
      "needs_background": "light"
     },
     "output_type": "display_data"
    }
   ],
   "source": [
    "import akshare as ak\n",
    "data = ak.stock_zh_a_daily(symbol=\"sz000002\", start_date=\"20101103\", end_date=\"20201116\", adjust=\"hfq\")\n",
    "data = data.open\n",
    "plt.plot(data)"
   ]
  },
  {
   "cell_type": "markdown",
   "id": "0f98fe89",
   "metadata": {},
   "source": [
    "载入数据集和数据迭代器"
   ]
  },
  {
   "cell_type": "code",
   "execution_count": 3,
   "id": "8d88d1d4",
   "metadata": {},
   "outputs": [],
   "source": [
    "def random_data_iter(seq, batch_size, seq_len):\n",
    "    # 首先要确定起始位置\n",
    "    seq = seq[random.randint(0, seq_len):]\n",
    "    # 其次确定序列总数\n",
    "    num_seq = (len(seq)-1) // seq_len\n",
    "    # 找到所有子序列起始位置\n",
    "    init_indexs = list(range(0, num_seq*seq_len, seq_len))\n",
    "    # 打乱\n",
    "    random.shuffle(init_indexs)\n",
    "    \n",
    "    def _data(index):\n",
    "        return seq[index:index+seq_len]\n",
    "    \n",
    "    # 计算batch数量\n",
    "    num_batches = num_seq // batch_size\n",
    "    for i in range(0, num_batches*batch_size, batch_size):\n",
    "        indice = init_indexs[i:i+batch_size]\n",
    "        X = [_data(j) for j in indice]\n",
    "        Y = [_data(j+1) for j in indice]\n",
    "        yield torch.tensor(X).reshape((batch_size,seq_len,1)), torch.tensor(Y).reshape((batch_size,seq_len))"
   ]
  },
  {
   "cell_type": "code",
   "execution_count": 4,
   "id": "2808c941",
   "metadata": {},
   "outputs": [],
   "source": [
    "# 建立数据迭代类，来满足不同epoch的训练\n",
    "class SeqIter:\n",
    "    def __init__(self, seq, batch_size, seq_len):\n",
    "        self.seq = seq.values\n",
    "        self.batch_size = batch_size\n",
    "        self.seq_len = seq_len\n",
    "    \n",
    "    def __iter__(self):\n",
    "        return random_data_iter(self.seq, self.batch_size, self.seq_len)"
   ]
  },
  {
   "cell_type": "markdown",
   "id": "fa572ef1",
   "metadata": {},
   "source": [
    "RNN类实现"
   ]
  },
  {
   "cell_type": "code",
   "execution_count": 5,
   "id": "5426896c",
   "metadata": {},
   "outputs": [],
   "source": [
    "def get_param(input_dim, output_dim, hidden_dim, device):\n",
    "    def normal(shape):\n",
    "        return torch.randn(size=shape, device=device)*0.01\n",
    "    \n",
    "    # 分别创建 W_hx, W_hh, b_h, W_hq, h_q\n",
    "    W_hx = normal((input_dim ,hidden_dim))\n",
    "    W_hh = normal((hidden_dim, hidden_dim))\n",
    "    b_h = torch.zeros(hidden_dim, device=device)\n",
    "    W_hq = normal((hidden_dim, output_dim))\n",
    "    b_q = torch.zeros(output_dim, device=device)\n",
    "    \n",
    "    params = [W_hx, W_hh, b_h, W_hq, b_q]\n",
    "    for param in params:\n",
    "        param.requires_grad_(True)\n",
    "        \n",
    "    return params\n",
    "        "
   ]
  },
  {
   "cell_type": "code",
   "execution_count": 6,
   "id": "8b57a4b3",
   "metadata": {},
   "outputs": [],
   "source": [
    "def rnn(X, params, state):\n",
    "    # 获取参数\n",
    "    W_hx, W_hh, b_h, W_hq, b_q = params\n",
    "    H, = state\n",
    "    \n",
    "    #更改X的w维度\n",
    "    X = X.permute(1, 0, 2)\n",
    "    \n",
    "    outputs = []\n",
    "    # 计算并返回\n",
    "    for x in X:\n",
    "        H = torch.matmul(x, W_hx) + torch.matmul(H, W_hh) + b_h\n",
    "        o = torch.matmul(H, W_hq) + b_q\n",
    "        outputs.append(o.reshape((-1, o.shape[0], 1)))\n",
    "    return torch.cat(outputs, dim=0).permute(1, 0, 2).squeeze(2), (H, )"
   ]
  },
  {
   "cell_type": "code",
   "execution_count": 7,
   "id": "cd8ad307",
   "metadata": {},
   "outputs": [],
   "source": [
    "def init_state(batch_size, hidden_dim):\n",
    "    return torch.zeros((batch_size, hidden_dim))"
   ]
  },
  {
   "cell_type": "code",
   "execution_count": 8,
   "id": "8a4afe4d",
   "metadata": {},
   "outputs": [],
   "source": [
    "class MyRNN:\n",
    "    def __init__(self, input_dim, output_dim, batch_size, hidden_dim, init_state, forward_fn, get_param, device=torch.device('cpu')):\n",
    "        #传入相关参数：input_dim, batch_size, hidden_dim, init_state, forward_fn, \n",
    "        self.output_dim = output_dim\n",
    "        self.input_dim = input_dim\n",
    "        self.batch_size = batch_size\n",
    "        self.hidden_dim = hidden_dim\n",
    "        self.init_state = init_state\n",
    "        self.forward_fn = forward_fn\n",
    "        self.device = device\n",
    "        #创建权重\n",
    "        self.params = get_param(input_dim, output_dim, hidden_dim, device)\n",
    "    \n",
    "    def __call__(self, X, state):\n",
    "        return self.forward_fn(X, self.params, state)\n",
    "    \n",
    "    def begin_state(self):\n",
    "        return (init_state(self.batch_size, self.hidden_dim), )"
   ]
  },
  {
   "cell_type": "markdown",
   "id": "b23c0d84",
   "metadata": {},
   "source": [
    "测试一下输入输出"
   ]
  },
  {
   "cell_type": "code",
   "execution_count": 9,
   "id": "6d642c7d",
   "metadata": {},
   "outputs": [
    {
     "name": "stdout",
     "output_type": "stream",
     "text": [
      "tensor([ 801.0300,  808.4100,  820.0200,  802.0800,  783.0800,  802.0800,\n",
      "         814.7500,  797.8600,  807.3600,  807.3600,  821.0800,  828.4700,\n",
      "         835.8500,  827.4100,  842.1900,  865.4000,  864.3500,  897.0600,\n",
      "         907.6200,  886.5100,  979.1700,  975.9000,  973.7300,  950.8800,\n",
      "         975.9000, 1010.7200,  995.4900, 1031.3900,  997.6600,  995.4900,\n",
      "         980.2600,  973.7300,  965.0200,  946.5300,  959.5800,  960.6700,\n",
      "         945.4400,  970.4600,  999.8400,  993.3100, 1618.3400, 1588.5000,\n",
      "        1666.5400, 1696.3900, 1625.2300, 1664.2500, 1738.8500, 1661.9500,\n",
      "        1653.9200, 1681.4700, 1614.9000, 1644.7400, 1678.0200, 1676.8700,\n",
      "        1587.3500, 1554.0601, 1572.4301, 1606.8600, 1611.4500, 1598.8300,\n",
      "        2351.0000, 2357.1799, 2369.5400, 2349.7600, 2365.8301, 2367.0701,\n",
      "        2509.2100, 2656.3101, 2608.1001, 2605.6299, 2564.8401, 2601.9199,\n",
      "        2655.0701, 2708.2200, 2706.9800, 2627.8799, 2601.9199, 2588.3201,\n",
      "        2588.3201, 2639.0000, 3323.1101, 3344.8401, 3298.8301, 3452.2000,\n",
      "        3489.2700, 3540.3899, 3514.8301, 3680.9900, 3701.4399, 3744.8899,\n",
      "        3735.9500, 3604.3000, 3496.9399, 3546.7800, 3517.3899, 3527.6101,\n",
      "        3508.4399, 3457.3101, 3614.5200, 3623.4700])\n"
     ]
    },
    {
     "name": "stderr",
     "output_type": "stream",
     "text": [
      "C:\\Users\\LeoPr\\AppData\\Local\\Temp\\ipykernel_25180\\1039367817.py:20: UserWarning: Creating a tensor from a list of numpy.ndarrays is extremely slow. Please consider converting the list to a single numpy.ndarray with numpy.array() before converting to a tensor. (Triggered internally at  C:\\actions-runner\\_work\\pytorch\\pytorch\\builder\\windows\\pytorch\\torch\\csrc\\utils\\tensor_new.cpp:204.)\n",
      "  yield torch.tensor(X).reshape((batch_size,seq_len,1)), torch.tensor(Y).reshape((batch_size,seq_len))\n"
     ]
    }
   ],
   "source": [
    "net = MyRNN(1, 1, 5, 10, init_state, rnn, get_param)\n",
    "state = net.begin_state()\n",
    "for X, Y in SeqIter(data, 5, 20):\n",
    "    state = net.begin_state()\n",
    "    y_hat, state = net(X.float(), state)\n",
    "    print(Y.reshape(-1).float())\n",
    "    break"
   ]
  },
  {
   "cell_type": "markdown",
   "id": "f2ab0558",
   "metadata": {},
   "source": [
    "训练函数实现"
   ]
  },
  {
   "cell_type": "code",
   "execution_count": 10,
   "id": "feb75aa2",
   "metadata": {},
   "outputs": [],
   "source": [
    "def grad_clipping(net, theta):\n",
    "    params = net.params\n",
    "    norm = torch.sqrt(sum(torch.sum((p.grad**2)) for p in params))\n",
    "    if norm > theta:\n",
    "        for param in params:\n",
    "            param.grad[:] *= theta / norm"
   ]
  },
  {
   "cell_type": "code",
   "execution_count": 11,
   "id": "c6bb1d1d",
   "metadata": {},
   "outputs": [],
   "source": [
    "def train_epoch(net, train_iter, loss, updater, device):\n",
    "    total_loss = 0\n",
    "    for X, Y in train_iter(data, 10, 20):\n",
    "        # 初始化\n",
    "        state = net.begin_state()\n",
    "        y_real = Y.reshape(-1).float()\n",
    "        X, y_real = X.float(), y_real.float()\n",
    "        \n",
    "        y_hat, state = net(X, state)\n",
    "        y_hat = y_hat.reshape(-1).float()\n",
    "        l = loss(y_real, y_hat).mean()\n",
    "        l.backward()\n",
    "        grad_clipping(net, 1)\n",
    "        updater(1)\n",
    "        total_loss += l\n",
    "    return total_loss"
   ]
  },
  {
   "cell_type": "code",
   "execution_count": 12,
   "id": "8668d29c",
   "metadata": {},
   "outputs": [],
   "source": [
    "def backward_fn(params, lr, batch_size):\n",
    "    with torch.no_grad():\n",
    "        for param in params:\n",
    "            param[:] = param - lr * param.grad / batch_size\n",
    "            param.grad.zero_()"
   ]
  },
  {
   "cell_type": "code",
   "execution_count": 13,
   "id": "411427f9",
   "metadata": {},
   "outputs": [],
   "source": [
    "def train(net, train_iter, epoches, lr,  device=torch.device('cpu')):\n",
    "    loss = torch.nn.MSELoss()\n",
    "    updater = lambda batch_size: backward_fn(net.params, lr, batch_size)\n",
    "    \n",
    "    for epoch in range(epoches):\n",
    "        total_loss = train_epoch(net, train_iter, loss, updater, device)\n",
    "        if (epoch + 1) % 10 == 0:\n",
    "            print(f'第{epoch+1}次训练，损失：{total_loss}')"
   ]
  },
  {
   "cell_type": "code",
   "execution_count": 14,
   "id": "86159bb8",
   "metadata": {},
   "outputs": [
    {
     "name": "stdout",
     "output_type": "stream",
     "text": [
      "第10次训练，损失：190458.6875\n",
      "第20次训练，损失：172375.765625\n",
      "第30次训练，损失：165444.921875\n",
      "第40次训练，损失：159421.6875\n",
      "第50次训练，损失：162800.234375\n",
      "第60次训练，损失：171166.1875\n",
      "第70次训练，损失：157493.9375\n",
      "第80次训练，损失：158207.53125\n",
      "第90次训练，损失：156106.015625\n",
      "第100次训练，损失：154034.921875\n",
      "第110次训练，损失：165390.453125\n",
      "第120次训练，损失：168490.578125\n",
      "第130次训练，损失：162115.28125\n",
      "第140次训练，损失：164461.421875\n",
      "第150次训练，损失：161670.015625\n",
      "第160次训练，损失：161845.96875\n",
      "第170次训练，损失：154354.09375\n",
      "第180次训练，损失：165063.28125\n",
      "第190次训练，损失：166020.890625\n",
      "第200次训练，损失：164205.5625\n",
      "第210次训练，损失：166826.734375\n",
      "第220次训练，损失：166465.171875\n",
      "第230次训练，损失：161163.421875\n",
      "第240次训练，损失：157082.0\n",
      "第250次训练，损失：163629.578125\n",
      "第260次训练，损失：157256.203125\n",
      "第270次训练，损失：162909.34375\n",
      "第280次训练，损失：166859.84375\n",
      "第290次训练，损失：160992.515625\n",
      "第300次训练，损失：164291.875\n",
      "第310次训练，损失：171906.0625\n",
      "第320次训练，损失：162552.90625\n",
      "第330次训练，损失：157983.828125\n",
      "第340次训练，损失：162171.6875\n",
      "第350次训练，损失：171886.90625\n",
      "第360次训练，损失：175140.234375\n",
      "第370次训练，损失：161585.8125\n",
      "第380次训练，损失：174054.4375\n",
      "第390次训练，损失：161736.96875\n",
      "第400次训练，损失：163882.4375\n",
      "第410次训练，损失：165852.375\n",
      "第420次训练，损失：162999.09375\n",
      "第430次训练，损失：165879.8125\n",
      "第440次训练，损失：171367.0\n",
      "第450次训练，损失：155155.234375\n",
      "第460次训练，损失：160953.765625\n",
      "第470次训练，损失：175529.8125\n",
      "第480次训练，损失：170409.71875\n",
      "第490次训练，损失：159338.234375\n",
      "第500次训练，损失：163767.84375\n",
      "第510次训练，损失：173342.671875\n",
      "第520次训练，损失：170651.6875\n",
      "第530次训练，损失：160941.21875\n",
      "第540次训练，损失：165561.296875\n",
      "第550次训练，损失：165727.28125\n",
      "第560次训练，损失：155786.421875\n",
      "第570次训练，损失：163548.265625\n",
      "第580次训练，损失：164903.5625\n",
      "第590次训练，损失：163438.09375\n",
      "第600次训练，损失：167889.796875\n",
      "第610次训练，损失：157285.546875\n",
      "第620次训练，损失：161428.734375\n",
      "第630次训练，损失：158281.625\n",
      "第640次训练，损失：159780.703125\n",
      "第650次训练，损失：164652.484375\n",
      "第660次训练，损失：160674.9375\n",
      "第670次训练，损失：156094.6875\n",
      "第680次训练，损失：162405.984375\n",
      "第690次训练，损失：172411.40625\n",
      "第700次训练，损失：164513.34375\n",
      "第710次训练，损失：164196.125\n",
      "第720次训练，损失：163818.171875\n",
      "第730次训练，损失：159903.0\n",
      "第740次训练，损失：165319.640625\n",
      "第750次训练，损失：159443.03125\n",
      "第760次训练，损失：171201.734375\n",
      "第770次训练，损失：158375.90625\n",
      "第780次训练，损失：151880.40625\n",
      "第790次训练，损失：163267.25\n",
      "第800次训练，损失：168168.53125\n",
      "第810次训练，损失：163203.859375\n",
      "第820次训练，损失：172758.34375\n",
      "第830次训练，损失：153559.5625\n",
      "第840次训练，损失：162405.65625\n",
      "第850次训练，损失：169463.625\n",
      "第860次训练，损失：164166.390625\n",
      "第870次训练，损失：160490.8125\n",
      "第880次训练，损失：165846.4375\n",
      "第890次训练，损失：156983.15625\n",
      "第900次训练，损失：166140.34375\n",
      "第910次训练，损失：159176.5\n",
      "第920次训练，损失：164638.28125\n",
      "第930次训练，损失：170967.734375\n",
      "第940次训练，损失：157315.578125\n",
      "第950次训练，损失：159670.578125\n",
      "第960次训练，损失：155925.84375\n",
      "第970次训练，损失：162231.359375\n",
      "第980次训练，损失：159855.21875\n",
      "第990次训练，损失：163994.921875\n",
      "第1000次训练，损失：163371.28125\n"
     ]
    }
   ],
   "source": [
    "net = MyRNN(1, 1, 10, 100, init_state, rnn, get_param)\n",
    "train(net, SeqIter, 1000, 0.05)"
   ]
  },
  {
   "cell_type": "code",
   "execution_count": null,
   "id": "8853d69b",
   "metadata": {},
   "outputs": [],
   "source": [
    "net = torch.nn.RNN(1, 10, 1, batch_first=True)\n",
    "net.train()\n",
    "epoches = 1000\n",
    "loss = torch.nn.MSELoss()\n",
    "trainer = torch.optim.Adam(net.parameters(), lr=0.01)\n",
    "batch_size = 10\n",
    "seq_len = 10\n",
    "data_loader = SeqIter(data, batch_size=batch_size, seq_len=seq_len)\n",
    "for epoch in range(epoches):\n",
    "    total_loss = 0\n",
    "    h = torch.zeros((batch_size, seq_len, 1))\n",
    "    for X, Y in data_loader:\n",
    "        X = X.float()\n",
    "        Y = Y.float().reshape(-1)\n",
    "        print(Y)\n",
    "        y_hat, h = net(X, h)\n",
    "        print(y_hat)\n",
    "        l = loss(y_hat.reshape(-1), Y).mean()\n",
    "        trainer.zero_grad()\n",
    "        l.backward()\n",
    "        total_loss += l\n",
    "        trainer.step()\n",
    "    if (epoch + 1) % 10 == 0:\n",
    "        print(f'第{epoch+1}次训练，损失：{total_loss}')\n",
    "    "
   ]
  },
  {
   "cell_type": "code",
   "execution_count": null,
   "id": "21d307d5",
   "metadata": {},
   "outputs": [],
   "source": []
  }
 ],
 "metadata": {
  "kernelspec": {
   "display_name": "Python 3 (ipykernel)",
   "language": "python",
   "name": "python3"
  },
  "language_info": {
   "codemirror_mode": {
    "name": "ipython",
    "version": 3
   },
   "file_extension": ".py",
   "mimetype": "text/x-python",
   "name": "python",
   "nbconvert_exporter": "python",
   "pygments_lexer": "ipython3",
   "version": "3.9.12"
  }
 },
 "nbformat": 4,
 "nbformat_minor": 5
}
